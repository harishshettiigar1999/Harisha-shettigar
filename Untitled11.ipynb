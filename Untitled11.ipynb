{
 "cells": [
  {
   "cell_type": "code",
   "execution_count": 1,
   "metadata": {},
   "outputs": [],
   "source": [
    "import pandas as pd\n",
    "import numpy as np\n",
    "import seaborn as sns\n",
    "import re\n",
    "import matplotlib.pyplot as plt\n",
    "%matplotlib inline"
   ]
  },
  {
   "cell_type": "code",
   "execution_count": 2,
   "metadata": {},
   "outputs": [],
   "source": [
    "df=pd.read_csv('Classified Data')"
   ]
  },
  {
   "cell_type": "code",
   "execution_count": 3,
   "metadata": {},
   "outputs": [],
   "source": [
    "from sklearn.preprocessing import StandardScaler"
   ]
  },
  {
   "cell_type": "code",
   "execution_count": 4,
   "metadata": {},
   "outputs": [],
   "source": [
    "scalar=StandardScaler()"
   ]
  },
  {
   "cell_type": "code",
   "execution_count": 5,
   "metadata": {},
   "outputs": [
    {
     "data": {
      "text/plain": [
       "StandardScaler(copy=True, with_mean=True, with_std=True)"
      ]
     },
     "execution_count": 5,
     "metadata": {},
     "output_type": "execute_result"
    }
   ],
   "source": [
    "scalar"
   ]
  },
  {
   "cell_type": "code",
   "execution_count": 6,
   "metadata": {},
   "outputs": [
    {
     "data": {
      "text/plain": [
       "StandardScaler(copy=True, with_mean=True, with_std=True)"
      ]
     },
     "execution_count": 6,
     "metadata": {},
     "output_type": "execute_result"
    }
   ],
   "source": [
    "scalar.fit(df.drop('TARGET CLASS',axis=1))"
   ]
  },
  {
   "cell_type": "code",
   "execution_count": 7,
   "metadata": {},
   "outputs": [],
   "source": [
    "scaled_features=scalar.transform(df.drop('TARGET CLASS',axis=1))"
   ]
  },
  {
   "cell_type": "code",
   "execution_count": 9,
   "metadata": {},
   "outputs": [],
   "source": [
    "from sklearn.model_selection import train_test_split\n",
    "x_train,x_test,y_train,y_test=train_test_split(scaled_features,df['TARGET CLASS'],test_size=0.30)"
   ]
  },
  {
   "cell_type": "code",
   "execution_count": 10,
   "metadata": {},
   "outputs": [
    {
     "data": {
      "text/plain": [
       "(array([[ 1.0894605 , -0.76338758, -1.60418913, ..., -1.5079554 ,\n",
       "         -0.75025882, -0.03708449],\n",
       "        [-0.34467828,  0.384209  , -1.77843328, ..., -0.17924604,\n",
       "          0.77346609,  0.22323025],\n",
       "        [-1.67835807,  0.38691941, -0.27012654, ...,  0.60792307,\n",
       "          0.20223405,  1.27584586],\n",
       "        ...,\n",
       "        [-0.2546116 ,  1.55219828,  0.12514548, ..., -0.77565171,\n",
       "          0.48110851,  0.8249868 ],\n",
       "        [-1.34926825, -1.85780308, -0.27064489, ..., -0.6814962 ,\n",
       "          0.43843174, -0.63085799],\n",
       "        [-0.58023731,  1.26967209, -1.61932029, ...,  0.62845654,\n",
       "          0.10403866, -0.26513387]]),\n",
       " array([[-2.47683389e-01, -8.40650817e-01,  8.36148068e-01, ...,\n",
       "          6.86167154e-01, -2.54943216e-02,  1.21614631e+00],\n",
       "        [ 1.25227336e+00, -1.58304522e+00, -2.11852993e-01, ...,\n",
       "          1.14279362e+00,  2.48645306e-01, -5.26979721e-01],\n",
       "        [-7.39586065e-01,  1.44270079e+00,  4.13483222e-01, ...,\n",
       "         -1.59314070e+00, -4.88142320e-02, -1.10696548e+00],\n",
       "        ...,\n",
       "        [ 6.63375791e-01, -2.51606041e-01, -1.21548907e+00, ...,\n",
       "         -5.10450712e-01,  1.47100444e+00, -1.95947504e-02],\n",
       "        [ 4.27816763e-01,  1.74243282e+00,  2.35422089e-01, ...,\n",
       "          3.25679816e-01, -1.13557596e-03, -1.75446439e+00],\n",
       "        [-9.50896369e-01, -1.22507734e+00, -3.07112781e-01, ...,\n",
       "          4.94019905e-01, -2.71659356e-01,  1.64570859e+00]]),\n",
       " 814    0\n",
       " 400    1\n",
       " 15     1\n",
       " 105    1\n",
       " 999    1\n",
       " 175    1\n",
       " 138    0\n",
       " 904    1\n",
       " 472    1\n",
       " 742    0\n",
       " 12     0\n",
       " 235    1\n",
       " 212    1\n",
       " 304    0\n",
       " 899    0\n",
       " 278    0\n",
       " 135    1\n",
       " 242    1\n",
       " 142    1\n",
       " 818    1\n",
       " 487    0\n",
       " 713    1\n",
       " 630    0\n",
       " 411    0\n",
       " 522    0\n",
       " 526    1\n",
       " 305    0\n",
       " 389    0\n",
       " 665    0\n",
       " 364    1\n",
       "       ..\n",
       " 757    0\n",
       " 832    0\n",
       " 500    1\n",
       " 721    0\n",
       " 675    0\n",
       " 898    1\n",
       " 555    0\n",
       " 2      0\n",
       " 936    1\n",
       " 678    1\n",
       " 172    0\n",
       " 261    0\n",
       " 366    1\n",
       " 593    1\n",
       " 17     0\n",
       " 288    0\n",
       " 668    1\n",
       " 60     0\n",
       " 739    0\n",
       " 72     1\n",
       " 852    1\n",
       " 168    1\n",
       " 979    1\n",
       " 547    1\n",
       " 638    0\n",
       " 179    0\n",
       " 648    0\n",
       " 426    1\n",
       " 110    0\n",
       " 332    1\n",
       " Name: TARGET CLASS, Length: 700, dtype: int64,\n",
       " 428    0\n",
       " 861    0\n",
       " 286    0\n",
       " 907    1\n",
       " 688    1\n",
       " 383    0\n",
       " 240    0\n",
       " 347    0\n",
       " 381    0\n",
       " 859    0\n",
       " 31     1\n",
       " 338    1\n",
       " 985    1\n",
       " 115    1\n",
       " 957    1\n",
       " 52     1\n",
       " 387    1\n",
       " 401    0\n",
       " 184    1\n",
       " 676    0\n",
       " 847    0\n",
       " 204    1\n",
       " 93     1\n",
       " 91     1\n",
       " 251    1\n",
       " 198    0\n",
       " 799    1\n",
       " 174    1\n",
       " 802    0\n",
       " 489    1\n",
       "       ..\n",
       " 435    1\n",
       " 592    0\n",
       " 796    1\n",
       " 361    0\n",
       " 314    0\n",
       " 100    0\n",
       " 490    0\n",
       " 682    1\n",
       " 295    1\n",
       " 954    0\n",
       " 873    1\n",
       " 448    0\n",
       " 422    1\n",
       " 687    0\n",
       " 840    1\n",
       " 38     1\n",
       " 782    1\n",
       " 440    0\n",
       " 663    1\n",
       " 263    0\n",
       " 461    1\n",
       " 112    1\n",
       " 512    0\n",
       " 480    0\n",
       " 853    0\n",
       " 268    0\n",
       " 456    1\n",
       " 691    1\n",
       " 623    1\n",
       " 225    0\n",
       " Name: TARGET CLASS, Length: 300, dtype: int64)"
      ]
     },
     "execution_count": 10,
     "metadata": {},
     "output_type": "execute_result"
    }
   ],
   "source": [
    "x_train,x_test,y_train,y_test"
   ]
  },
  {
   "cell_type": "code",
   "execution_count": 11,
   "metadata": {},
   "outputs": [],
   "source": [
    "from sklearn.neighbors import KNeighborsClassifier"
   ]
  },
  {
   "cell_type": "code",
   "execution_count": 12,
   "metadata": {},
   "outputs": [],
   "source": [
    "knn=KNeighborsClassifier(n_neighbors=1)"
   ]
  },
  {
   "cell_type": "code",
   "execution_count": 13,
   "metadata": {},
   "outputs": [
    {
     "data": {
      "text/plain": [
       "KNeighborsClassifier(algorithm='auto', leaf_size=30, metric='minkowski',\n",
       "           metric_params=None, n_jobs=1, n_neighbors=1, p=2,\n",
       "           weights='uniform')"
      ]
     },
     "execution_count": 13,
     "metadata": {},
     "output_type": "execute_result"
    }
   ],
   "source": [
    " knn.fit(x_train,y_train)"
   ]
  },
  {
   "cell_type": "code",
   "execution_count": 14,
   "metadata": {},
   "outputs": [],
   "source": [
    "pred=knn.predict(x_test)"
   ]
  },
  {
   "cell_type": "code",
   "execution_count": 15,
   "metadata": {},
   "outputs": [],
   "source": [
    "from sklearn.metrics import classification_report,confusion_matrix"
   ]
  },
  {
   "cell_type": "code",
   "execution_count": 16,
   "metadata": {},
   "outputs": [
    {
     "name": "stdout",
     "output_type": "stream",
     "text": [
      "[[132  17]\n",
      " [ 11 140]]\n"
     ]
    }
   ],
   "source": [
    "print(confusion_matrix(y_test,pred))\n"
   ]
  },
  {
   "cell_type": "code",
   "execution_count": 17,
   "metadata": {},
   "outputs": [
    {
     "name": "stdout",
     "output_type": "stream",
     "text": [
      "             precision    recall  f1-score   support\n",
      "\n",
      "          0       0.92      0.89      0.90       149\n",
      "          1       0.89      0.93      0.91       151\n",
      "\n",
      "avg / total       0.91      0.91      0.91       300\n",
      "\n"
     ]
    }
   ],
   "source": [
    "print(classification_report(y_test,pred))"
   ]
  },
  {
   "cell_type": "code",
   "execution_count": 20,
   "metadata": {},
   "outputs": [],
   "source": [
    "error_rate=[]\n",
    "for i in range(1,40):\n",
    "    knn=KNeighborsClassifier(n_neighbors=i)\n",
    "    knn.fit(x_train,y_train)\n",
    "    pred_i=knn.predict(x_test)\n",
    "    error_rate.append(np.mean(pred_i!=y_test))    "
   ]
  },
  {
   "cell_type": "code",
   "execution_count": 21,
   "metadata": {},
   "outputs": [
    {
     "data": {
      "text/plain": [
       "Text(0,0.5,'Error Rate')"
      ]
     },
     "execution_count": 21,
     "metadata": {},
     "output_type": "execute_result"
    },
    {
     "data": {
      "image/png": "[encoded data removed]",
      "text/plain": [
       "<Figure size 720x432 with 1 Axes>"
      ]
     },
     "metadata": {},
     "output_type": "display_data"
    }
   ],
   "source": [
    "plt.figure(figsize=(10,6))\n",
    "plt.plot(range(1,40),error_rate,color='blue',linestyle='dashed',marker='o',markerfacecolor='red',markersize=10)\n",
    "plt.title(\"Error Rate vs. K Value\")\n",
    "plt.xlabel('X')\n",
    "plt.ylabel('Error Rate')"
   ]
  },
  {
   "cell_type": "code",
   "execution_count": 23,
   "metadata": {},
   "outputs": [
    {
     "name": "stdout",
     "output_type": "stream",
     "text": [
      "With k=23\n",
      "\n",
      "\n",
      "[[135  14]\n",
      " [  6 145]]\n",
      "\n",
      "\n",
      "             precision    recall  f1-score   support\n",
      "\n",
      "          0       0.96      0.91      0.93       149\n",
      "          1       0.91      0.96      0.94       151\n",
      "\n",
      "avg / total       0.93      0.93      0.93       300\n",
      "\n"
     ]
    }
   ],
   "source": [
    "knn=KNeighborsClassifier(n_neighbors=23)\n",
    "knn.fit(x_train,y_train)\n",
    "pred=knn.predict(x_test)\n",
    "print('With k=23')\n",
    "print('\\n')\n",
    "print(confusion_matrix(y_test,pred))\n",
    "print('\\n')\n",
    "print(classification_report(y_test,pred))"
   ]
  },
  {
   "cell_type": "code",
   "execution_count": null,
   "metadata": {},
   "outputs": [],
   "source": []
  }
 ],
 "metadata": {
  "kernelspec": {
   "display_name": "Python 3",
   "language": "python",
   "name": "python3"
  },
  "language_info": {
   "codemirror_mode": {
    "name": "ipython",
    "version": 3
   },
   "file_extension": ".py",
   "mimetype": "text/x-python",
   "name": "python",
   "nbconvert_exporter": "python",
   "pygments_lexer": "ipython3",
   "version": "3.6.5"
  }
 },
 "nbformat": 4,
 "nbformat_minor": 2
}
